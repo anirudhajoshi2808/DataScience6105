{
 "cells": [
  {
   "cell_type": "markdown",
   "id": "734e52e5",
   "metadata": {},
   "source": [
    "### Dataset computation"
   ]
  },
  {
   "cell_type": "markdown",
   "id": "9e920d19",
   "metadata": {},
   "source": [
    "#### Data Extraction and Data Cleaning"
   ]
  },
  {
   "cell_type": "code",
   "execution_count": 36,
   "id": "e8688298",
   "metadata": {},
   "outputs": [
    {
     "name": "stderr",
     "output_type": "stream",
     "text": [
      "/var/folders/dj/wcp4hvwd7wzglrm85gjck8lr0000gn/T/ipykernel_39383/4176450229.py:16: SettingWithCopyWarning: \n",
      "A value is trying to be set on a copy of a slice from a DataFrame\n",
      "\n",
      "See the caveats in the documentation: https://pandas.pydata.org/pandas-docs/stable/user_guide/indexing.html#returning-a-view-versus-a-copy\n",
      "  df.replace([np.inf, -np.inf], np.nan, inplace=True)\n",
      "/var/folders/dj/wcp4hvwd7wzglrm85gjck8lr0000gn/T/ipykernel_39383/4176450229.py:18: SettingWithCopyWarning: \n",
      "A value is trying to be set on a copy of a slice from a DataFrame\n",
      "\n",
      "See the caveats in the documentation: https://pandas.pydata.org/pandas-docs/stable/user_guide/indexing.html#returning-a-view-versus-a-copy\n",
      "  df.dropna(inplace=True)\n",
      "/var/folders/dj/wcp4hvwd7wzglrm85gjck8lr0000gn/T/ipykernel_39383/4176450229.py:21: SettingWithCopyWarning: \n",
      "A value is trying to be set on a copy of a slice from a DataFrame.\n",
      "Try using .loc[row_indexer,col_indexer] = value instead\n",
      "\n",
      "See the caveats in the documentation: https://pandas.pydata.org/pandas-docs/stable/user_guide/indexing.html#returning-a-view-versus-a-copy\n",
      "  df[\"title_year\"]=df[\"title_year\"].astype(int)\n"
     ]
    },
    {
     "data": {
      "text/html": [
       "<div>\n",
       "<style scoped>\n",
       "    .dataframe tbody tr th:only-of-type {\n",
       "        vertical-align: middle;\n",
       "    }\n",
       "\n",
       "    .dataframe tbody tr th {\n",
       "        vertical-align: top;\n",
       "    }\n",
       "\n",
       "    .dataframe thead th {\n",
       "        text-align: right;\n",
       "    }\n",
       "</style>\n",
       "<table border=\"1\" class=\"dataframe\">\n",
       "  <thead>\n",
       "    <tr style=\"text-align: right;\">\n",
       "      <th></th>\n",
       "      <th>movie_title</th>\n",
       "      <th>actor_1_name</th>\n",
       "      <th>title_year</th>\n",
       "      <th>country</th>\n",
       "      <th>gross</th>\n",
       "    </tr>\n",
       "  </thead>\n",
       "  <tbody>\n",
       "    <tr>\n",
       "      <th>0</th>\n",
       "      <td>Avatar</td>\n",
       "      <td>CCH Pounder</td>\n",
       "      <td>2009</td>\n",
       "      <td>USA</td>\n",
       "      <td>760505847.00000000000000000000</td>\n",
       "    </tr>\n",
       "    <tr>\n",
       "      <th>1</th>\n",
       "      <td>Pirates of the Caribbean: At World's End</td>\n",
       "      <td>Johnny Depp</td>\n",
       "      <td>2007</td>\n",
       "      <td>USA</td>\n",
       "      <td>309404152.00000000000000000000</td>\n",
       "    </tr>\n",
       "    <tr>\n",
       "      <th>2</th>\n",
       "      <td>Spectre</td>\n",
       "      <td>Christoph Waltz</td>\n",
       "      <td>2015</td>\n",
       "      <td>UK</td>\n",
       "      <td>200074175.00000000000000000000</td>\n",
       "    </tr>\n",
       "    <tr>\n",
       "      <th>3</th>\n",
       "      <td>The Dark Knight Rises</td>\n",
       "      <td>Tom Hardy</td>\n",
       "      <td>2012</td>\n",
       "      <td>USA</td>\n",
       "      <td>448130642.00000000000000000000</td>\n",
       "    </tr>\n",
       "    <tr>\n",
       "      <th>5</th>\n",
       "      <td>John Carter</td>\n",
       "      <td>Daryl Sabara</td>\n",
       "      <td>2012</td>\n",
       "      <td>USA</td>\n",
       "      <td>73058679.00000000000000000000</td>\n",
       "    </tr>\n",
       "    <tr>\n",
       "      <th>...</th>\n",
       "      <td>...</td>\n",
       "      <td>...</td>\n",
       "      <td>...</td>\n",
       "      <td>...</td>\n",
       "      <td>...</td>\n",
       "    </tr>\n",
       "    <tr>\n",
       "      <th>97</th>\n",
       "      <td>Inception</td>\n",
       "      <td>Leonardo DiCaprio</td>\n",
       "      <td>2010</td>\n",
       "      <td>USA</td>\n",
       "      <td>292568851.00000000000000000000</td>\n",
       "    </tr>\n",
       "    <tr>\n",
       "      <th>99</th>\n",
       "      <td>The Hobbit: An Unexpected Journey</td>\n",
       "      <td>Aidan Turner</td>\n",
       "      <td>2012</td>\n",
       "      <td>USA</td>\n",
       "      <td>303001229.00000000000000000000</td>\n",
       "    </tr>\n",
       "    <tr>\n",
       "      <th>100</th>\n",
       "      <td>The Fast and the Furious</td>\n",
       "      <td>Paul Walker</td>\n",
       "      <td>2001</td>\n",
       "      <td>USA</td>\n",
       "      <td>144512310.00000000000000000000</td>\n",
       "    </tr>\n",
       "    <tr>\n",
       "      <th>101</th>\n",
       "      <td>The Curious Case of Benjamin Button</td>\n",
       "      <td>Brad Pitt</td>\n",
       "      <td>2008</td>\n",
       "      <td>USA</td>\n",
       "      <td>127490802.00000000000000000000</td>\n",
       "    </tr>\n",
       "    <tr>\n",
       "      <th>102</th>\n",
       "      <td>X-Men: First Class</td>\n",
       "      <td>Jennifer Lawrence</td>\n",
       "      <td>2011</td>\n",
       "      <td>USA</td>\n",
       "      <td>146405371.00000000000000000000</td>\n",
       "    </tr>\n",
       "  </tbody>\n",
       "</table>\n",
       "<p>100 rows × 5 columns</p>\n",
       "</div>"
      ],
      "text/plain": [
       "                                   movie_title       actor_1_name  title_year  \\\n",
       "0                                      Avatar         CCH Pounder        2009   \n",
       "1    Pirates of the Caribbean: At World's End         Johnny Depp        2007   \n",
       "2                                     Spectre     Christoph Waltz        2015   \n",
       "3                       The Dark Knight Rises           Tom Hardy        2012   \n",
       "5                                 John Carter        Daryl Sabara        2012   \n",
       "..                                         ...                ...         ...   \n",
       "97                                  Inception   Leonardo DiCaprio        2010   \n",
       "99          The Hobbit: An Unexpected Journey        Aidan Turner        2012   \n",
       "100                  The Fast and the Furious         Paul Walker        2001   \n",
       "101       The Curious Case of Benjamin Button           Brad Pitt        2008   \n",
       "102                        X-Men: First Class   Jennifer Lawrence        2011   \n",
       "\n",
       "    country                          gross  \n",
       "0       USA 760505847.00000000000000000000  \n",
       "1       USA 309404152.00000000000000000000  \n",
       "2        UK 200074175.00000000000000000000  \n",
       "3       USA 448130642.00000000000000000000  \n",
       "5       USA  73058679.00000000000000000000  \n",
       "..      ...                            ...  \n",
       "97      USA 292568851.00000000000000000000  \n",
       "99      USA 303001229.00000000000000000000  \n",
       "100     USA 144512310.00000000000000000000  \n",
       "101     USA 127490802.00000000000000000000  \n",
       "102     USA 146405371.00000000000000000000  \n",
       "\n",
       "[100 rows x 5 columns]"
      ]
     },
     "execution_count": 36,
     "metadata": {},
     "output_type": "execute_result"
    }
   ],
   "source": [
    "import scipy.stats as st\n",
    "import numpy as np\n",
    "import matplotlib.pyplot as plt\n",
    "import pandas as pd\n",
    "from dateutil import parser\n",
    "import os\n",
    "\n",
    "try:\n",
    "  top = Path(__file__ + '../..').resolve()\n",
    "  wd = str(top)\n",
    "except:\n",
    "  wd = os.getcwd()\n",
    "\n",
    "movie = pd.read_csv(wd+\"/resources/movie_metadata.csv\")\n",
    "df = movie[[\"movie_title\", \"actor_1_name\", \"title_year\", \"country\", \"gross\"]]\n",
    "\n",
    "# Data Cleaning\n",
    "df.replace([np.inf, -np.inf], np.nan, inplace=True)\n",
    "# Drop rows with NaN\n",
    "df.dropna(inplace=True)\n",
    "#df.dropna()\n",
    "#df.dtypes\n",
    "df[\"title_year\"]=df[\"title_year\"].astype(int)\n",
    "df.sort_values(by='gross', ascending=False)\n",
    "df.head(100)\n"
   ]
  },
  {
   "cell_type": "markdown",
   "id": "401966ea",
   "metadata": {},
   "source": [
    "# Theoritical Moments\n",
    "From the histogram we can see that exponential probability distribution is best suited for this. \n",
    "Using the formula ***lambda = 1/scale and 1/mean***. "
   ]
  },
  {
   "cell_type": "code",
   "execution_count": 37,
   "id": "1d005748",
   "metadata": {},
   "outputs": [
    {
     "data": {
      "text/plain": [
       "(88180518.81505516, 4091.0, 88184609.81505516)"
      ]
     },
     "execution_count": 37,
     "metadata": {},
     "output_type": "execute_result"
    }
   ],
   "source": [
    "scale_inf_theo = np.mean(df[\"gross\"])\n",
    "\n",
    "#To verify the result we use expon.fit() method. \n",
    "[loc_inf, scale_inf] = expon.fit(df[\"gross\"])\n",
    "(scale_inf, loc_inf, scale_inf_theo)"
   ]
  },
  {
   "cell_type": "markdown",
   "id": "0d0b01ab",
   "metadata": {},
   "source": [
    "# Exponential PDF\n",
    "We first calculate the min and max of the data, then plot the exponential pdf in red on top of the histogram. "
   ]
  },
  {
   "cell_type": "code",
   "execution_count": 38,
   "id": "a779cee3",
   "metadata": {},
   "outputs": [
    {
     "data": {
      "text/plain": [
       "[<matplotlib.lines.Line2D at 0x7fd5b8143880>]"
      ]
     },
     "execution_count": 38,
     "metadata": {},
     "output_type": "execute_result"
    },
    {
     "data": {
      "image/png": "[encoded data removed]",
      "text/plain": [
       "<Figure size 640x480 with 1 Axes>"
      ]
     },
     "metadata": {},
     "output_type": "display_data"
    }
   ],
   "source": [
    "max_data_inf = np.max(df[\"gross\"])\n",
    "min_data_inf = np.min(df[\"gross\"])\n",
    "\n",
    "df.gross.hist(density = True, bins = 20)\n",
    "plt.plot(np.linspace(min_data_inf, max_data_inf, 20), expon.pdf(np.linspace(min_data_inf, max_data_inf, 20), loc = loc_inf, scale = scale_inf_theo), color = \"red\")"
   ]
  },
  {
   "cell_type": "markdown",
   "id": "d9889170",
   "metadata": {},
   "source": [
    "# Prediction\n",
    "P(x) = (1/scale_inf_theo) * exp(-(1/scale_inf_theo) * x)"
   ]
  },
  {
   "cell_type": "code",
   "execution_count": 39,
   "id": "7cef6309",
   "metadata": {},
   "outputs": [
    {
     "name": "stdout",
     "output_type": "stream",
     "text": [
      "0.00000000000013482615\n"
     ]
    }
   ],
   "source": [
    "#probablility of a movie to make $1,000,000,000 which as expected is very less. \n",
    "import math\n",
    "prob = (1/scale_inf_theo) * math.exp(-(1/scale_inf_theo) * 1000000000)\n",
    "print(format(prob,'.20f'))"
   ]
  },
  {
   "cell_type": "code",
   "execution_count": null,
   "id": "a240362c",
   "metadata": {},
   "outputs": [],
   "source": []
  }
 ],
 "metadata": {
  "kernelspec": {
   "display_name": "Python 3 (ipykernel)",
   "language": "python",
   "name": "python3"
  },
  "language_info": {
   "codemirror_mode": {
    "name": "ipython",
    "version": 3
   },
   "file_extension": ".py",
   "mimetype": "text/x-python",
   "name": "python",
   "nbconvert_exporter": "python",
   "pygments_lexer": "ipython3",
   "version": "3.9.13"
  }
 },
 "nbformat": 4,
 "nbformat_minor": 5
}
