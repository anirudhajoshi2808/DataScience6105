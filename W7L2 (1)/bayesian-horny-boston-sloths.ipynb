{
 "cells": [
  {
   "cell_type": "markdown",
   "metadata": {},
   "source": [
    "<div style=\"text-align: right\">INFO 6105 Data Science Eng Methods and Tools, Lecture 7 Day 2</div>\n",
    "<div style=\"text-align: right\">Dino Konstantopoulos, 23 February 2023</div>\n",
    "\n",
    "# Data Science with Bayesian Estimation\n",
    "\n",
    "[Bayesian estimation](https://en.wikipedia.org/wiki/Bayes_estimator) is practical and effective today thanks to modern implementations of [MCMC](https://en.wikipedia.org/wiki/Markov_chain_Monte_Carlo) algorithms implemented in popular libraries like `PyMC3`, `Sampyl`, `Stan`, `sklearn`, and others. \n",
    "\n",
    "Let's learn about the history of these techniques, and try out another Bayesian estimation library, `Sampyl`."
   ]
  },
  {
   "cell_type": "markdown",
   "metadata": {},
   "source": [
    "# 1. Frequentist statistics\n",
    "Dominant school of statistics in the 20th century use techniques like p-values, t-tests, χ2 tests, confidence intervals, etc.\n",
    "\n",
    "They define probability as a long-term frequency in a repeatable random experiment.\n",
    "\n",
    "A **statistic** is anything that can be computed from random data. Examples of point statistics include data mean, data maximum, data minimum, data standard variation, and other such **moments**.\n",
    "\n",
    "A statistic cannot be the *true* value of an unknown parameter.\n",
    "\n",
    "A statistic can be a *hypothesized* value of a parameter.\n",
    "\n",
    "Suppose $x_1, \\cdots , x_n$ is a sample from $N(µ, σ2)$, where $µ$ and $σ$ are unknown.\n",
    "\n",
    "Questions: Is each of the following a **statistic**?\n",
    "\n",
    "1. The median of $x_1, \\cdots , x_n$.\n",
    "2. The interval from the 0.25 quantile to the 0.75 quantile of $N(µ, σ2)$.\n",
    "3. The standardized mean $(x¯−µ) / (σ/√n)$.\n",
    "4. The set of sample values less than 1 unit from $\\bar{x}$.\n",
    "\n",
    "Answers:\n",
    "\n",
    "1. Yes. The median only depends on the data $x_1, \\cdots , x_n$.\n",
    "2. No. This interval depends only on the distribution parameters µ and σ. It does not consider the data at all.\n",
    "3. No. this depends on the values of the unknown parameters µ and σ.\n",
    "4. Yes. ¯x depends only on the data, so the set of values within 1 of ¯x can all be found by working with the data.\n",
    "\n",
    "The procedure for classical statistics is the following: Formulate a Null hypothesis: H0. Formulate an alternative hypothesis: HA. For a Test statistic: x, Null hypothesis says it looks like the same statistic as a reference distribution. Althernative hypothesis says it is different.\n",
    "\n",
    "Assume the test statistic has a histogram that looks like a **Student-T** shape. Then assume that it is a **student-T** and run a **t-test**. That t-test will give you a p-value (a probability) that will tell you whether the null hypothesis is in effect. \n",
    "\n",
    "If the p-value is *bigger* than a certain threshold (usually 10% - significance level is 10%), depends on the experiment), then there is a high probability that your data may look different but this is just *due to chance*. So the null hypothesis is in effect.\n",
    "\n",
    "If the p-value is *smaller* than a certain threshold (usually 10%, depends on the experiment), then there is a low probability that your data may look different and this is just due to chance. So the alternative hypothesis is in effect.\n",
    "\n",
    "Why can we do this test for many many different looking distributions of data? Because of the central theorem of statistics that proves that test statistics of any dataset look very normal the more and more data we sample (but we allow for more outliers by leveraging the Student-T distribution instead of the gaussian).\n",
    "\n",
    ">**Note**: There is also a **z-test** that assumes a **normal** (instead of a Student-T) distribution for the test statistic.\n",
    "\n",
    "> **Note**: A chi-squared distribution (also chi-square or χ2-distribution) with k degrees of freedom is the distribution of a sum of the squares of k independent standard normal random variables (the chi-squared distribution is a special case of the gamma distribution). The chi-squared test is used when n observations in a random sample from a population are classified into k mutually exclusive classes with respective observed test statistics $x_i$ (for i = 1,2,…,k), and a null hypothesis gives the probability $p_i$ that an observation falls into the ith class\n",
    "\n",
    "For an in-depth reading, this wikipedia [article](https://en.wikipedia.org/wiki/Statistical_hypothesis_testing) is good.\n",
    "\n",
    "We have python libraries that compute these tests for us when we give them our data."
   ]
  },
  {
   "cell_type": "markdown",
   "metadata": {},
   "source": [
    "<div style=\"text-align: right; color: gray\">7</div>\n",
    "\n",
    "## Flaws of frequentist statistics\n",
    "\n",
    "**Frequentist Statistics** tests whether an event (hypothesis) occurs or not. It calculates the probability of an event in the **long run** of the experiment (i.e the experiment is repeated under the same conditions to obtain the outcome). For example, Lewis Hamilton wins in F1.\n",
    "\n",
    "Here, sampling distributions of fixed size are taken. Then, the experiment is theoretically repeated an infinite number of times but practically done with a stopping intention. \n",
    "\n",
    "For example, I perform an experiment with a stopping intention in mind that I will stop the experiment when it is repeated 1000 times, or I see minimum 300 heads in a coin toss. \n",
    "\n",
    "Now, what if person A chooses to stop tossing a coin when the total count reaches 100 while person B stops at 1000? For different sample sizes, we get different t-scores and different p-values! Similarly, intention to stop may change from fixed number of flips to total duration of flipping. In this case too, we are bound to get different p-values.\n",
    "\n",
    "This experiment exhibits a **flaw** of the frequentist approach: *Dependence of the result of an experiment on the number of times the experiment is repeated*.\n",
    "\n",
    "Frequentist statistics don't yield most probable test statistics. They tell you whether a test statistic is consistent with one hypothesis or another.\n",
    "\n",
    "We can do better."
   ]
  },
  {
   "cell_type": "markdown",
   "metadata": {},
   "source": [
    "<div style=\"text-align: right; color: gray\">1</div>\n",
    "\n",
    "# 2. Origins of Markov-Chain Monte Carlo (MCMC) methods\n",
    "\n",
    "[**Markov Chains**](https://en.wikipedia.org/wiki/Markov_chain) are memoryless [state machines](https://en.wikipedia.org/wiki/Finite-state_machine). We'll revisit these when we start looking at linear algebra.\n",
    "\n",
    "[**Monte Carlo**](https://en.wikipedia.org/wiki/Monte_Carlo_method) methods were pioneered by [Manhattan Project](https://en.wikipedia.org/wiki/Manhattan_Project) scientists [Nicholas Constantine Metropolis](https://en.wikipedia.org/wiki/Nicholas_Metropolis), [John von Neumann](https://en.wikipedia.org/wiki/John_von_Neumann), and [Stanislaw Ulam](https://en.wikipedia.org/wiki/Stanislaw_Ulam), who helped develop the [first atomic weapon](https://en.wikipedia.org/wiki/Nuclear_weapons_of_the_United_States) in the 1940s. Also, some of the greatest computer scientists that *ever* lived! Read their bios..\n",
    "\n",
    "- Faced with very limited supplies of uranium, they turned to **simulation** to compute reliable probabilities for model parameters in order to reduce the amount of raw material needed for testing. In order to not experiment on people, how do you compute the amount of shielding to protect physicists from radiation if you assume a given final distribution of radiation (an inverse problem)? You cannot afford to put a a bunch of physicists in different rooms with different shieldings and see who dies and who doesn't, right?. \n",
    "\n",
    "[J. Robert Oppenheimer](https://en.wikipedia.org/wiki/J._Robert_Oppenheimer) was the wartime head of the [Los Alamos Laboratory](https://www.lanl.gov/) and is among those who are credited with being the \"father of the atomic bomb\", used in the atomic bombings of [Hiroshima and Nagasaki](https://en.wikipedia.org/wiki/Atomic_bombings_of_Hiroshima_and_Nagasaki), in Japan. The first atomic bomb was detonated as a test on July 16, 1945, in the [Trinity test](https://en.wikipedia.org/wiki/Trinity_(nuclear_test)) in New Mexico. Oppenheimer later remarked that it brought to mind words from the [Bhagavad Gita](https://en.wikipedia.org/wiki/Bhagavad_Gita): [Now I am become Death, the destroyer of worlds](https://www.wired.co.uk/article/manhattan-project-robert-oppenheimer).\n",
    "\n",
    "<br />\n",
    "<center>\n",
    "<img src=\"images/thanos.jpg\" width=400 />\n",
    "</center>\n",
    "\n",
    "\n",
    "Assistant to renowned physicist J. Robert Oppenheimer at the Institute for Advanced Studies in Princeton, [Guido H. Sandri](https://www.bu.edu/eng/2013/07/29/remembering-a-collegial-renaissance-man/) was *your's truly* Ph.D. advisor at Boston University during my doctoral years, the head of my Ph.D. committee, and also the man that shaped my academic personality more than anybody else."
   ]
  },
  {
   "cell_type": "markdown",
   "metadata": {},
   "source": [
    "\n",
    "# 3. Bayes Theorem\n",
    "\n",
    "Bayes Theorem comes into effect when multiple events $A_i$ form an exhaustive set with another event $B$. We proved it before in our movie/long-hair slides.\n",
    "\n",
    "$B$, a union of probabilities conditional over a set of events $A_i$, can be written as:\n",
    "\n",
    "$$B = \\sum_{i=1}^n B \\cap A_i$$\n",
    "\n",
    "For example, you may think of $B$ as Mercedes winning the 2022 season trophy race given conditions $A_i$.\n",
    "\n",
    "So, probability of B can be written as:\n",
    "\n",
    "$$p(B) = \\sum_{i=1}^n p(B \\cap A_i)$$\n",
    "\n",
    "By the law of probability **intersections** (assuming independence of events):\n",
    "\n",
    "$$p(B \\cap A_i) = p(B\\;|\\;A_i) \\; p(A_i) = p(A_i\\;|\\;B) \\; p(B)$$\n",
    "\n",
    "So, we get:\n",
    "\n",
    "$$p(A_i\\;|\\;B) = \\frac{p(B\\;|\\;A_i) \\; p(A_i)}{\\sum_{i=1}^n p(B \\cap A_i)}$$\n",
    "\n",
    "and finally:\n",
    "\n",
    "$$p(A_i\\;|\\;B) = \\frac{p(B\\;|\\;A_i) \\; p(A_i)}{\\sum_{i=1}^n p(B\\;|\\;A_i) \\; p(A_i)}$$\n",
    "\n",
    "***that*** is **Bayes' formula**!"
   ]
  },
  {
   "cell_type": "markdown",
   "metadata": {},
   "source": [
    "<div style=\"text-align: right; color: gray\">8</div>\n",
    "\n",
    "# 4. Bayes' Formula as an estimator of probabilities\n",
    "\n",
    "Suppose, out of all the 4 championship races (F1) between Lewis Hamilton (LW, Mercedes) and Charles Leclerc (CL, Ferrari), Lewis won 3 times, while Charles managed only 1.\n",
    "\n",
    "So, if you were to bet on the winner of next race, who would he be ?\n",
    "\n",
    "I bet you would say LH.\n",
    "\n",
    "Now what if I give you ***more evidence***: I tell you that it rained **once** when Lewis won and **once** when Charles won and it is definite that it will rain on the *next* race. So, who would you bet your money on now, Mercedes or Ferrari?\n",
    "\n",
    "By intuition, it is easy to see that chances of winning for Charles have increased drastically. By how much?\n",
    "\n",
    "Suppose, B is the event of a Charles Leclerc win, and A is the event of raining. Therefore,\n",
    "\n",
    "P(A) = 1/2, since it rained twice out of four days.\n",
    "\n",
    "P(B) is 1/4, since Charles won only one race out of four.\n",
    "\n",
    "P(A|B) = 1, since it rained every time when Charles won.\n",
    "\n",
    "Substituting the values in Bayes formula we get the probability of B given A:\n",
    "\n",
    "$$p(B\\;|\\;A) = \\frac{p(A\\;|\\;B) \\; p(B)}{p(A)}$$\n",
    "\n",
    "we get the probability to be 50%, which is ***the double of 25% when rain was not taken into account***!\n",
    "\n",
    "This further strengthened our belief of Charles winning ***in the light of new evidence*** i.e **rain**. \n",
    "\n",
    ">**Moral of the story**: *New* information changes our beliefs! That is the Bayesian perspective."
   ]
  },
  {
   "cell_type": "markdown",
   "metadata": {},
   "source": [
    "<div style=\"text-align: right; color: gray\">2</div>\n",
    "\n",
    "# 5. Bayes' Formula as an estimator of model parameters\n",
    "\n",
    "The histogram of our dataset yields the **data likelihood** function we'll pick to model the data. Our choice of data likelihood function will freeze the number of parameters to locate.\n",
    "\n",
    "We will match each one of these parameters with a different **pdf**. Up to you to figure out which.\n",
    "\n",
    "In Bayesian inference, we represent our **beliefs** about model parameters with probability distributions and *update* our beliefs given data. \n",
    "\n",
    ">In Bayesian inference, Model parameters are not **values** anymore, like with MEM and MLE methods. They are **functions**! Their mean or mode is the most probably value, and their standard deviation is the error we make in assuming the most probably value is the mean or mode.\n",
    "\n",
    "The *less* certain we are about some prior belief, the *wider*, or more diffuse, the probability distribution. Conversely, the *stronger* the belief, the *narrower*, or more concentrated, the probability distribution. We use these probability distributions to quantify our knowledge about model parameters, including uncertainty, in our conclusions. \n",
    "\n",
    "We use Bayes’ formula to model our degrees of belief in our model parameters $\\alpha$, $\\beta$, $\\theta$, $\\mu$, $\\sigma$, etc.\n",
    "\n",
    "**Prior probability** is the probability density function of our model parameters *before* we see the data or new data. In Bayesian Inference, the prior is our guess about the probability based on what we know *before* new data becomes available.\n",
    "\n",
    "That is, we have some beliefs (and knowledge) about model parameters *before* we see data, however diffuse.\n",
    "\n",
    "Then we *update* our beliefs of these parameters *after* seeing the data. \n",
    "\n",
    "Bayes’ formula relates information given by the data (the data **likelihood**) with prior knowledge of the parameters before seeing data (the **prior**). The data and the priors are used to calculate the probability distribution of model parameters after seeing the data (the **posterior**).\n",
    "\n",
    ">The core of Bayesian Inference is to combine two different distributions (**likelihood** and **prior**) into one *smarter* distribution (**posterior**). Once we calculate the posterior, we use it to find the *best* parameters and the *best* is in terms of maximizing the posterior probability, given the data. This process is called **Maximum A Posteriori** (MAP).\n",
    "\n",
    "For some likelihood functions, if you choose a certain prior, the posterior ends up being in the *same* distribution family as the prior! Such a prior then is called a [Conjugate Prior](https://en.wikipedia.org/wiki/Conjugate_prior)."
   ]
  },
  {
   "cell_type": "markdown",
   "metadata": {},
   "source": [
    "## 5.1 The pain in Bayes' formula\n",
    "\n",
    "Lets take a close look at **Bayes' formula**:\n",
    "\n",
    "$$p(\\theta \\; | \\; x) = \\frac{p(x \\; | \\; \\theta) \\;  p(\\theta)}{p(x)}$$\n",
    "\n",
    "We have $p(\\theta \\; | \\; x)$, the probability of our model parameters $\\theta$ *given the data* $x$ and thus our quantity of interest: The data is known, the parameter unknown: The opposite of frequentist statistics where the data is known but parameters are known.\n",
    "\n",
    "For an example of classical, or frequentist statistics, look no farther than our F1 notebook: The winning probability of each driver is assumed known, and what we don't know is the data: *Who's going to win?*\n",
    "\n",
    "To compute this parameter $\\theta$, we multiply the **prior** $p(\\theta)$ (what we think about $\\theta$ before we have seen any data) and the **likelihood** $p(x\\; | \\; \\theta)$, (how we *think* our data is distributed). This nominator is pretty easy to solve for.\n",
    "\n",
    "However, lets take a closer look at the denominator. $p(x)$ which is also called the **evidence** (i.e. the evidence that the data $x$ was generated by this model). \n",
    "\n",
    "How do we evaluate that? \n",
    "\n",
    "By the **law of total probability**, we can compute this quantity by integrating over all possible $\\theta$ model parameter values:\n",
    "\n",
    "$$p(x) = \\int_\\theta p(x, \\theta) d\\theta$$\n",
    "\n",
    "This is the *key* difficulty with Bayes formula -- while the formula looks innocent enough, for even slightly non-trivial models you just *can't compute* $p(x)$, and thus the posterior $p(x\\; | \\; \\theta)$ in a closed-form way.\n",
    "\n",
    "$$posterior = likelihood * prior$$\n",
    "\n",
    "$$normalized \\; posterior = \\frac{posterior}{\\Sigma \\; \\text{or} \\int(posterior)}$$\n",
    "\n",
    "There are two things that make the posterior calculation expensive:\n",
    "\n",
    "- First, we are computing the posterior *for every single possible value of θ*.\n",
    "\n",
    "Why do we have to calculate the posterior for thousands of thetas? Because you are normalizing the posterior. Even if you choose not to normalize the posterior, the end goal is to find the maximum of the posteriors. In order to find the maximum in a vanilla way, we need to consider every candidate — the likelihood P(X|θ) for every θ.\n",
    "\n",
    "- Second, if there is no closed-form formula of the posterior distribution, we have to find the maximum by numerical optimization, such as gradient descent or the Newton method.\n",
    "\n",
    "## 5.2 Solving with Conjugate priors (math)\n",
    "When you know that your prior is a **conjugate prior**, you can skip the $posterior = likelihood * prior$ computation. Furthermore, if your prior distribution has a closed-form form expression, you already know what the maximum posterior is going to be.\n",
    "\n",
    "If you know the analytic form of the posterior, you can compute the posterior just with simple math, by finding the new analytic values of its coefficient.. For example, since the [beta distribution](https://en.wikipedia.org/wiki/Beta_distribution) is a conjugate prior to the [binomial distribution](https://en.wikipedia.org/wiki/Binomial_distribution), we know that the posterior of a binomial likelihood will also follow the beta distribution. So, you can compute the posterior simply by adding the number of acceptances and rejections to the existing parameters α, β respectively, instead of multiplying the likelihood with the prior distribution.\n",
    "\n",
    "Here's the proof that the beta is conjugate prior to the binomial:\n",
    "\n",
    "<br />\n",
    "<center>\n",
    "<img src=\"images/binomial-beta.png\" width=700 />\n",
    "</center>\n",
    "\n",
    "Let’s plug them into the famous Bayes formula.\n",
    "- θ is the probability of success.\n",
    "- x is the number of successes.\n",
    "- n is the total number of trials, therefore n-x is the number of failures.\n",
    "\n",
    "<br />\n",
    "<center>\n",
    "<img src=\"images/binomial-beta-conjugate.png\" width=700 />\n",
    "</center>\n",
    "\n",
    "\n",
    "The prior distribution P(θ) was Beta(α, β) and after getting x successes and n-x failures from the experiments, the posterior also becomes a Beta distribution with parameters (x+α, n-x+β).\n",
    "\n",
    "What’s nice here is you know this *analytically* without doing the computation. That's the advantage of kowing some math"
   ]
  },
  {
   "cell_type": "markdown",
   "metadata": {},
   "source": [
    "## 5.3 Solving with Monte Carlo algorithms (code)\n",
    "\n",
    "Let's zero-in on a $\\theta$ parameter of our model by trying out different values to see which one matches best with our dataset!\n",
    "\n",
    "Embed yourself in the space of all possible parameters $\\theta$. How do you move in that parameter space, generating different versions of $p(x\\; | \\; \\theta)$, and then finding the right one, i.e. the right point in $\\theta$ space that yields the right estimation of $p(x\\; | \\; \\theta)$? \n",
    "\n",
    "You could do this with a **genetic algorithm** (GA), right?\n",
    "\n",
    "You start at *one* random point in $\\theta$ space, and move around. You move (jump) from that position to somewhere else, using some randomness (that's the **Monte Carlo** part). \n",
    "\n",
    "<br />\n",
    "<center>\n",
    "<img src=\"images/manifold.png\" width=600 />\n",
    "</center>\n",
    "\n",
    "*How* you move is the real smart part (that's the **Markov Chain** part): The ratio of the posteriors at one point and the next in state space as we walk through it gets rid of the pesky $p(x)$ in the denominator which we cannot compute! Without that pesky term, you *can* compute that ratio, and that also gives you the ratio of the posteriors without having to evaluate the pesky term. \n",
    "\n",
    "Additionally, if you make that ratio the probability of moving from one point to the next (accepting it sometimes, rejecting it other times), then you keep visiting regions of ***high posterior probability*** relatively **more often** than those of lower posterior probability: *always* accept the jump if the posterior probability gets higher, and otherwise accept it sometimes or not with probability = the ratio, if the posterior gets lower. \n",
    "\n",
    "That's a clever way to traverse state space. It ensures our fitness function is monotonically *increasing*, which is ***a prerequisite for convergence of genetic algorithms***. And that's what GA do: they traverse state space of all possible solutions *in a clever way*.\n",
    "\n",
    "We'll examine this when we study the Metropolis algorithm.\n",
    "\n",
    "The Metropolis algorithm, see [here](https://en.wikipedia.org/wiki/Metropolis%E2%80%93Hastings_algorithm), is just as important and interesting of an algorithm as *k-means*.\n",
    "\n",
    "The inventor of Metropolis? [Nicholas Constantine Metropolis](https://en.wikipedia.org/wiki/Nicholas_Metropolis) (Greek: Νικόλαος Μητρόπουλος, June 11, 1915 – October 17, 1999), a Greek-American physicist at Los Alamos in the 1950s, where, together with a group of researchers including [John von Neumann](https://en.wikipedia.org/wiki/John_von_Neumann) and [Stanislaw Ulam](https://en.wikipedia.org/wiki/Stanislaw_Ulam), developed this method. For many years MC methods were the domain of physicists and chemists. They really didn't come into prominence in general statistics until we started generating, as a species, so much data that simulation made sense! A quarter century ago?\n",
    "\n",
    "Nicholas Metropolis authored the 1953 paper Equation of State Calculations by Fast Computing Machines, abridged [here](https://en.wikipedia.org/wiki/Equation_of_State_Calculations_by_Fast_Computing_Machines) and can be found [here](https://bayes.wustl.edu/Manual/EquationOfState.pdf), together with [Arianna W. Rosenbluth](https://en.wikipedia.org/wiki/Arianna_W._Rosenbluth), [Marshall Rosenbluth](https://en.wikipedia.org/wiki/Marshall_Rosenbluth), [Augusta H. Teller](https://en.wikipedia.org/wiki/Augusta_H._Teller) and [Edward Teller](https://en.wikipedia.org/wiki/Edward_Teller) (the father of the [Hydrogen bomb](https://en.wikipedia.org/wiki/Thermonuclear_weapon)). This paper proposed the algorithm for the case of symmetrical proposal distributions, and [W. K. Hastings](https://en.wikipedia.org/wiki/W._K._Hastings) extended it to the more general case in 1970.\n",
    "\n",
    "Nicholas Metropolis had coined the term `Monte Carlo` in an earlier paper with Stanislav Ulam, and led the group in the Theoretical Division that designed and built the [MANIAC I](https://en.wikipedia.org/wiki/MANIAC_I) computer used in the experiments in 1952. Edward Teller states in his memoirs that the five authors of the 1953 paper worked together for \"days (and nights)\". According to [Roy Glauber](https://en.wikipedia.org/wiki/Roy_J._Glauber) and [Emilio Segrè](https://en.wikipedia.org/wiki/Emilio_Segr%C3%A8) however, the original algorithm was invented by [Enrico Fermi](https://en.wikipedia.org/wiki/Enrico_Fermi) and was reinvented by Stan Ulam.\n",
    "\n",
    "The names of the principal actors are *giants* in physics and computation. Read the Wikipedia articles!"
   ]
  },
  {
   "cell_type": "markdown",
   "metadata": {},
   "source": [
    "<div style=\"text-align: right; color: gray\">6</div>\n",
    "\n",
    "# 6. Experiment 1: Flipping a coin\n",
    "\n",
    "Let's do a **Monte Carlo** (MC) simulation of flipping a coin. Let's start with 10 flips, then 100, then 1000, and try to model the data. We a;ready know what our likelihood function will be: **Bernoulli** for one one trial, and **Binomial** for many. The binomila has ***one parameter*** (probability for each sample). What pdf to model that with?\n",
    "\n",
    "We'll introduce a new pdf which we'll use as our belief function for **priors** and **posteriors**, and which works great for modeling probabilistic data.\n",
    "\n",
    "</br >\n",
    "<center>\n",
    "<img src=\"images/tosscoin.png\" width=150 />\n",
    "</center>"
   ]
  },
  {
   "cell_type": "code",
   "execution_count": 67,
   "metadata": {},
   "outputs": [],
   "source": [
    "%matplotlib inline\n",
    "import numpy as np\n",
    "import pandas as pd\n",
    "from scipy import stats\n",
    "import matplotlib.pylab as plt\n",
    "import seaborn as sns\n",
    "sns.set_context('notebook')\n",
    "\n",
    "RANDOM_SEED = 20090425"
   ]
  },
  {
   "cell_type": "markdown",
   "metadata": {},
   "source": [
    "## The beta function\n",
    "We will use a new function, the [beta distribuion](https://en.wikipedia.org/wiki/Beta_distribution) to model probabilistic parameter values. It's a rock star of a function!\n",
    "\n",
    "Hmmm... *Looks* like a gaussian, but try params (2,2) and (1,1) after you've tried out (4,4)... *Surprise*!"
   ]
  },
  {
   "cell_type": "code",
   "execution_count": 73,
   "metadata": {},
   "outputs": [
    {
     "data": {
      "image/png": "[encoded data removed]",
      "text/plain": [
       "<Figure size 432x288 with 1 Axes>"
      ]
     },
     "metadata": {
      "needs_background": "light"
     },
     "output_type": "display_data"
    }
   ],
   "source": [
    "# prior parameters\n",
    "alpha, beta = 4, 4\n",
    "\n",
    "# calculate posterior distribution, using a beta distribution\n",
    "variates = stats.beta(alpha, beta)\n",
    "\n",
    "# mean and 95% credible interval\n",
    "mean = posterior.mean()\n",
    "cr = posterior.interval(0.95)\n",
    "\n",
    "# beta distribution for plotting\n",
    "xs = np.linspace(0, 1, num=1000)\n",
    "pdf = variates.pdf(xs)\n",
    "plt.plot(pdf)\n",
    "plt.xlabel('x')\n",
    "plt.ylabel('y')\n",
    "plt.title('pdf')\n",
    "plt.grid(True)\n",
    "plt.show()"
   ]
  },
  {
   "cell_type": "markdown",
   "metadata": {},
   "source": [
    "Let's see how we could use it as a model. Its two paramters are pretty special... If we add the number of successes (heads) to $\\alpha$ and the number of failures (tails) to $\\beta$:"
   ]
  },
  {
   "cell_type": "code",
   "execution_count": 77,
   "metadata": {},
   "outputs": [
    {
     "name": "stdout",
     "output_type": "stream",
     "text": [
      "[1 0 0 1 0 0 0 1 0 0 1 1 0 1 1 0 1 0 1 1 0 1 0 0 0 1 0 0 0 1 1 1 0 0 1 1 1\n",
      " 1 1 1 0 0 0 0 0 0 0 0 1 1 1 0 1 1 1 0 1 1 1 1 0 0 0 0 1 1 0 0 0 0 1 0 1 1\n",
      " 0 1 1 0 1 0 1 1 0 1 1 0 1 0 1 0 1 0 0 1 1 1 1 0 1 0 0 0 1 0 1 1 1 0 0 1 1\n",
      " 1 0 0 1 1 1 0 0 0 1 0 1 0 0 0 0 0 1 1 1 0 1 1 0 1 0 1 0 1 1 0 0 1 0 1 0 0\n",
      " 0 0 1 0 0 0 1 1 0 0 0 0 0 0 0 1 1 1 0 1 0 0 1 0 1 0 1 1 0 0 0 0 0 1 0 0 0\n",
      " 1 1 1 0 1 0 0 0 0 1 0 1 0 1 0 1 1 1 0 0 1 0 0 1 1 0 1 1 1 1 1 0 0 0 0 0 1\n",
      " 1 0 1 0 0 1 0 0 1 1 0 1 0 0 0 1 1 1 1 0 0 0 0 1 1 0 0 1 1 1 1 0 0 1 1 0 1\n",
      " 0 0 0 0 1 0 1 0 1 1 1 1 1 0 0 0 0 1 0 0 0 1 0 0 0 1 0 0 0 1 1 0 0 1 0 1 1\n",
      " 0 1 0 1 1 0 0 0 1 0 1 1 1 1 0 1 0 0 0 0 1 0 1 0 1 0 0 0 1 1 0 0 1 0 1 0 0\n",
      " 0 1 0 1 1 0 1 0 0 1 1 1 0 1 1 1 1 1 1 0 0 0 1 0 0 1 0 0 0 1 1 1 0 0 1 0 0\n",
      " 0 1 1 1 1 1 1 1 1 1 0 0 1 0 0 1 1 1 0 1 0 0 1 1 1 1 1 1 0 0 0 1 1 0 0 1 0\n",
      " 0 1 0 1 0 1 1 1 1 1 1 1 1 1 1 0 1 0 0 1 0 0 1 0 1 1 0 1 0 0 1 0 1 0 1 1 0\n",
      " 1 0 1 1 1 0 0 1 1 0 0 1 1 0 1 0 1 0 1 1 0 0 0 0 1 1 0 0 1 0 0 1 1 1 0 0 0\n",
      " 0 0 1 0 0 1 0 1 0 1 0 1 0 0 0 1 0 0 1 1 0 1 1 1 1 0 1 0 1 0 0 1 0 1 1 0 1\n",
      " 0 0 0 0 0 0 0 0 1 1 0 1 0 1 1 0 0 0 1 1 0 1 0 0 0 1 0 0 0 1 1 0 0 1 0 0 1\n",
      " 0 1 0 1 1 1 0 0 0 1 1 0 1 1 1 0 1 0 1 1 1 0 1 0 0 0 1 1 1 0 1 0 0 1 1 0 0\n",
      " 0 0 1 0 1 1 1 0 1 1 1 0 1 0 0 0 1 0 0 1 1 0 1 1 0 0 0 0 1 0 0 1 0 1 0 1 0\n",
      " 0 1 1 0 0 0 0 1 0 1 0 1 1 0 1 1 1 1 0 1 0 0 0 0 1 0 0 0 0 0 1 0 0 0 1 1 0\n",
      " 0 1 0 0 0 1 1 1 1 1 1 1 0 1 1 0 1 1 0 0 1 0 0 0 1 1 0 1 0 0 1 1 0 1 1 0 0\n",
      " 0 1 1 1 0 1 1 0 0 1 0 0 1 0 0 1 0 1 1 0 1 1 0 0 0 0 0 0 0 1 0 1 1 1 0 1 0\n",
      " 1 0 0 1 1 1 1 1 1 0 0 0 0 0 1 0 0 1 1 0 0 0 1 1 1 0 0 1 0 1 0 1 1 1 1 1 0\n",
      " 0 0 1 0 0 1 0 0 0 1 0 0 1 0 0 1 0 1 1 1 0 0 1 1 1 0 1 1 1 1 1 0 0 0 0 1 0\n",
      " 1 0 0 1 0 1 1 0 1 0 0 1 0 1 1 0 0 0 0 1 0 1 0 1 0 0 1 1 0 0 1 0 0 1 1 0 1\n",
      " 1 1 0 1 0 1 1 1 0 1 1 1 1 0 1 0 1 0 1 0 0 0 1 0 1 1 0 1 0 1 0 1 1 1 0 0 1\n",
      " 1 1 0 0 0 1 1 0 0 1 0 1 1 0 1 0 0 0 1 1 1 1 0 0 1 1 1 1 1 0 0 0 0 0 1 0 1\n",
      " 0 0 0 0 1 0 0 1 0 1 0 1 0 0 1 0 1 1 0 0 1 0 0 1 1 0 1 0 1 1 0 0 1 0 1 0 1\n",
      " 1 1 0 0 0 1 0 1 0 1 1 0 0 1 0 0 1 1 1 0 0 0 0 1 1 0 0 1 0 0 0 0 0 0 1 0 1\n",
      " 1]\n",
      "(0.45320345280932617, 0.5149841764197428)\n"
     ]
    },
    {
     "data": {
      "image/png": "[encoded data removed]",
      "text/plain": [
       "<Figure size 432x288 with 1 Axes>"
      ]
     },
     "metadata": {
      "needs_background": "light"
     },
     "output_type": "display_data"
    }
   ],
   "source": [
    "# our events is a list of 0s and 1s, at fixed probabilities\n",
    "flipcoin = np.random.choice(a= [0, 1],\n",
    "                              p = [0.5, 0.5],\n",
    "                              size=1000)\n",
    "print(flipcoin)\n",
    "successes = flipcoin.sum()\n",
    "failures = len(flipcoin) - successes\n",
    "\n",
    "# prior parameters\n",
    "alpha, beta = 2, 2\n",
    "\n",
    "# calculate posterior distribution, using a beta distribution\n",
    "posterior = stats.beta(alpha + successes, beta + failures)\n",
    "\n",
    "# mean and 95% credible interval\n",
    "mean = posterior.mean()\n",
    "cr = posterior.interval(0.95)\n",
    "print(cr)\n",
    "\n",
    "#posterior distribution for plotting\n",
    "xs = np.linspace(0, 1, num=1000)\n",
    "pdf = posterior.pdf(xs)\n",
    "plt.plot(pdf)\n",
    "plt.xlabel('x')\n",
    "plt.ylabel('y')\n",
    "plt.title('pdf')\n",
    "plt.grid(True)\n",
    "plt.show()"
   ]
  },
  {
   "cell_type": "markdown",
   "metadata": {},
   "source": [
    "Yup, that looks like the pdf that approximates the probabilities of coin tossing gets *tighter* and *tighter* the more data we have (the more flip coin events we record): The standard deviation keeps getting smaller.\n",
    "\n",
    "It's a great pdf to use to model priors and posteriors because it can vary smoothly from \"*** no idea at all***\" to more focused values."
   ]
  },
  {
   "cell_type": "markdown",
   "metadata": {},
   "source": [
    "<div style=\"text-align: right; color: gray\">10</div>\n",
    "\n",
    "## Bayesian inference with the Binomial and the Beta\n",
    "\n",
    "Models are the mathematical formulation of the observed events. Parameters are the factors in the models affecting the observed data.\n",
    "\n",
    "Data science is about finding the paramaters, so we can keep the model and throw away the data. All models are **parametric**.\n",
    "\n",
    "In tossing a coin, **fairness** of a coin may be defined as the parameter denoted by $θ$. The outcome of the events may be denoted by $D$.\n",
    "\n",
    "What is the probability of 4 heads out of 9 tosses ($D$) given the fairness of coin ($θ$). i.e $p(D|θ)$?\n",
    "\n",
    "And how about the *converse problem*: Given an outcome (D) what is the probability of the coin being fair ($p(θ)=0.5$)\n",
    "\n",
    "Let's represent the problem using Bayes Theorem:\n",
    "\n",
    "$$p(θ|D)=\\frac{p(D|θ) \\; p(θ)}{p(D)}$$\n",
    "\n",
    "Here, $p(θ)$ is the **prior** i.e the strength of our belief in the fairness of coin before the toss. It is perfectly okay to believe that coin can have any degree of fairness between 0 and 1.\n",
    "\n",
    "$p(D|θ)$ is the **likelihood** of observing our result given a belief (value) for θ. For example, if we knew that coin was fair, this gives the probability of observing the number of heads in a particular number of flips.\n",
    "\n",
    "$p(D)$ is the **evidence**. This is the probability of our data as determined by summing (or integrating) ***across all possible values of θ, weighted by how strongly we believe in those particular values of $θ$***. If we had multiple views of what the fairness of the coin is (but didn’t know for sure), then this tells us the probability of seeing a certain sequence of flips for all possibilities of our belief in the coin’s fairness.\n",
    "\n",
    "$p(θ|D)$ is the **posterior** belief of our parameters ***after observing the evidence*** i.e the number of heads.\n",
    "\n",
    "To define our model correctly , we need ***two*** mathematical models:\n",
    "- One to represent the likelihood function $p(D|θ)$, and \n",
    "- The other for representing the distribution of prior beliefs. \n",
    "\n",
    "The product of these two gives the posterior belief $p(θ|D)$ distribution.\n",
    "\n",
    "Let's figure out $p(D|θ)$:\n",
    "\n",
    "#### $p(y=1|θ) = 0.5$ \n",
    "If coin is fair $θ=0.5$, probability of observing heads (y=1) is 0.5.\n",
    "\n",
    "#### $p(y=0|θ) = 0.5$ \n",
    "If coin is fair $θ=0.5$, probability of observing tails (y=0) is 0.5.\n",
    "\n",
    "<br />\n",
    "\n",
    "We can combine the above mathematical definitions into a single definition to represent the probability of both outcomes. \n",
    "This is called the [Bernoulli Likelihood Function](https://en.wikipedia.org/wiki/Bernoulli_distribution) and the task of coin flipping is called a [Bernoulli trial](https://en.wikipedia.org/wiki/Bernoulli_trial):\n",
    "\n",
    "$$P(y|θ)= θ^y \\; (1-θ)^{1-y}$$ where θ is either 0 or 1.\n",
    "\n",
    "For many trials, when we observe a *series of heads or flips*, it's a [binomial distribution](https://en.wikipedia.org/wiki/Binomial_distribution):\n",
    "\n",
    "$$p(y_1, y_2, \\cdots, y_n \\; |\\;θ) = \\prod_{i=1}^n p(y_i \\; |\\;θ) = \\prod_{i=1}^n θ^y \\; (1-θ)^{1-y}$$\n",
    "\n",
    "The probability of number of heads $z$ turning up in $N$ number of flips ($y=1$ $z$ times for $n = N$, and $y=0$ $N-k$ times in the formula above), is the [binomial distribution](https://en.wikipedia.org/wiki/Binomial_distribution) for $N$ trials:\n",
    "\n",
    "$$p(z, N \\; |\\;θ) =  θ^z \\; (1-θ)^{N-z}$$\n",
    "\n",
    "This is going to be our **data likelihood function**: What the histogram of our data will look like!\n",
    "\n",
    "Now, what pdf to use to represent the parameter $\\theta$ of our model?\n",
    "\n",
    "Since prior and posterior are both *beliefs* about the distribution of fairness of coin, intuition tells us that both should have the same mathematical form.\n",
    "\n",
    "The mathematical function used to represent prior belief $p(\\theta)$ ***with uninformative priors*** is the [beta distribution](https://en.wikipedia.org/wiki/Beta_distribution)!\n",
    "\n",
    ">**Note**: So-called \"**uninformative**\" priors for the beta distribution share the property that α=β, leading to a symmetric distribution, and α≤1,β≤1. Common choices are: Uniform (Bayes-Laplace) prior (α=β=1), Jeffreys prior (α=β=1/2), \"Neutral\" prior (α=β=1/3) proposed by Kerman (2011), Haldane prior (α=β=0), or it's approximation (α=β=ε with ε>0)\n",
    "\n",
    "If we use the probability density function (pdf) of the beta distribution for $p(\\theta)$ as our prior, it can be written as:\n",
    "\n",
    "$$p(\\theta) = \\frac{x^{\\alpha - 1}\\;(1-x)^{\\beta - 1}}{B(\\alpha, \\beta)}$$\n",
    "\n",
    "$B$ is just to ensure that the total probability density function upon integration evaluates to 1: It's the [beta function](https://en.wikipedia.org/wiki/Beta_function), not to be confused with the [beta distribution](https://en.wikipedia.org/wiki/Beta_distribution) itself! \n",
    "\n",
    "$α$ and $β$ are called the shape-deciding parameters of the density function. Here $α$ is analogous to number of heads in the trials and $β$ corresponds to the number of tails.\n",
    "\n",
    "$α$ and $β$ are intuitive to understand since they can be calculated by knowing the mean ($μ$) and standard deviation ($σ$) of the beta distribution. They are related as so:\n",
    "\n",
    "$$μ = \\frac{\\alpha}{\\alpha + \\beta}$$\n",
    "\n",
    "$$σ = \\sqrt{\\frac{\\alpha \\; \\beta}{(\\alpha + \\beta)^2\\; (\\alpha + \\beta + 1)}}$$\n",
    "\n",
    "When there is no toss (no observations yet), we believe that the coin is fair as depicted by the flat line in the first graph below.\n",
    "\n",
    "When there are tosses (observations) and a bigger number of heads than tails, the graph shows a **peak** shifted towards the *right side*, indicating higher probability of heads, ***and that coin is not fair***.\n",
    "\n",
    "As more tosses are observed, and tails come in to balance out the heads, the peak narrows and the mean value of the distribution shifts to the middle, increasing our confidence in the fairness of the coin. The images below are the same kinds of images we observede with our coin-tossing simulations above.\n",
    "\n",
    "</br >\n",
    "<center>\n",
    "<img src=\"ipynb.images/trials-heads.png\" width=800 />\n",
    "</center>\n",
    "\n",
    "So the beta function appears to be a good choice, since it matches our simulation above with 1,000 coin tosses ($\\theta = 0.5$).\n",
    "\n",
    "It is also similar to the winning distribution of Lewis Hamilton. As the season gets underway, LH may be out of shape and he looses races, and his pdf is skewed towards the losing side, and maybe we don't believe in the power of the Hamilton anymore... But as the season stretches on, LH starts winning again, and his pdf starts shifting towards the winning side, past the mean value for any F1 racer.\n",
    "\n",
    "So, why did we pick a beta distribution for the prior $p(\\theta)$? Because when we multiply it with a likelihood function, posterior distribution yields a form similar to the prior distribution, which is much easier to relate to and understand. So we kind of *cheated*, and it kind of worked out, didn't it? \n",
    "\n",
    "Calculating **posterior belief** using Bayes theorem and the binomial distribution and beta distributions as depicted above:\n",
    "\n",
    "$$p(θ\\;|\\;z, N) = \\frac{p(z,N\\;|\\;θ) \\; p(θ)}{p(z,N)}$$\n",
    "\n",
    "$$p(θ\\;|\\;z, N) = \\frac{θ^z \\; (1-θ)^{N-z} \\; θ^{\\alpha - 1} \\; (1-θ)^{\\beta - 1}} {B(\\alpha, \\beta)\\; p(z,N)}$$\n",
    "\n",
    "$$p(θ\\;|\\;z, N) = p(θ\\;|\\;z + \\alpha, N - z + \\beta) $$\n",
    "\n",
    "So the posterior is also a beta function, *with shifted arguments*.\n",
    "\n",
    "So, just knowing the mean $\\mu$ and standard deviation $\\sigma$ (and thus $\\alpha$ and $\\beta$) of our prior belief $p(θ)$ and by observing the number ($z$) of heads in $N$ flips, we can *easily* update our belief (that's our ***posterior***) about the model parameter $θ$. All ***analytically***!"
   ]
  },
  {
   "cell_type": "markdown",
   "metadata": {},
   "source": [
    "## An experiment in bias\n",
    "Here's a data experiment: Suppose, you think that a coin is **biased**. It has a mean ($μ$) bias of around 0.6 with standard deviation of 0.1 (so it's not *fair*!).\n",
    "\n",
    "Then from the formulas above,\n",
    "\n",
    "$α$= 13.8 , $β$=9.2\n",
    "\n",
    "and our distribution is biased on (*skewed towards*) the *right side*. "
   ]
  },
  {
   "cell_type": "code",
   "execution_count": 78,
   "metadata": {},
   "outputs": [
    {
     "data": {
      "image/png": "[encoded data removed]",
      "text/plain": [
       "<Figure size 432x288 with 1 Axes>"
      ]
     },
     "metadata": {
      "needs_background": "light"
     },
     "output_type": "display_data"
    }
   ],
   "source": [
    "# prior parameters\n",
    "alpha, beta = 13.8, 9.2\n",
    "\n",
    "# calculate posterior distribution, using a beta distribution\n",
    "variates = stats.beta(alpha, beta)\n",
    "\n",
    "# mean and 95% credible interval\n",
    "mean = posterior.mean()\n",
    "cr = posterior.interval(0.95)\n",
    "\n",
    "# beta distribution for plotting\n",
    "xs = np.linspace(0, 1, num=1000)\n",
    "pdf = variates.pdf(xs)\n",
    "plt.plot(pdf)\n",
    "plt.xlabel('x')\n",
    "plt.ylabel('y')\n",
    "plt.title('pdf')\n",
    "plt.grid(True)\n",
    "plt.show()"
   ]
  },
  {
   "cell_type": "markdown",
   "metadata": {},
   "source": [
    "Suppose now you observe 80 heads ($z=80$) in 100 flips($N=100$). We have our **before** and **after**, let’s compute our prior and posterior beliefs:\n",
    "\n",
    "**prior** = $p(θ\\;|\\;α,β) = p(θ\\;|\\;13.8,9.2)$\n",
    "\n",
    "**posterior** = $p(θ\\;|\\;z+α,N-z+β) = p(θ\\;|\\;93.8,29.2)$"
   ]
  },
  {
   "cell_type": "code",
   "execution_count": 79,
   "metadata": {},
   "outputs": [
    {
     "data": {
      "image/png": "[encoded data removed]",
      "text/plain": [
       "<Figure size 432x288 with 1 Axes>"
      ]
     },
     "metadata": {
      "needs_background": "light"
     },
     "output_type": "display_data"
    }
   ],
   "source": [
    "# prior parameters\n",
    "alpha, beta = 93.8, 29.2\n",
    "\n",
    "# calculate posterior distribution, using a beta distribution\n",
    "variates = stats.beta(alpha, beta)\n",
    "\n",
    "# mean and 95% credible interval\n",
    "mean = posterior.mean()\n",
    "cr = posterior.interval(0.95)\n",
    "\n",
    "# beta distribution for plotting\n",
    "xs = np.linspace(0, 1, num=1000)\n",
    "pdf = variates.pdf(xs)\n",
    "plt.plot(pdf)\n",
    "plt.xlabel('x')\n",
    "plt.ylabel('y')\n",
    "plt.title('pdf')\n",
    "plt.grid(True)\n",
    "plt.show()"
   ]
  },
  {
   "cell_type": "markdown",
   "metadata": {},
   "source": [
    "As more and more flips are made and new data is observed, our beliefs get **updated**, meaning we get new probabilities and our confidence increases (standard deviation decreases). ***This is the power of Bayesian Inference***.\n",
    "\n",
    "\n",
    "If you don't care about flipping coins, think about F1. As the F1 season gets  under way, LH may be in not-so-good shape and *loose* a few races before getting in shape and winning again. His pdf, at the end of the season, we know is skewed towards winning, but at the start of the season, that may not be the case. As the season progresses and new evidence comes in (LH wins), the LH pdf sharpens into the pdf we expect from LH from past seasons.\n",
    "\n",
    ">***You*** decide: In a **frequentist** world view, data observed is considered **random**, but model parameters are considered **fixed**. How is that possible when our belief about the magic of the Hamilton changes depending on the number of his wins in the current F1 season? *Soooooooo wrong*! Our model parameters *cannot* be fixed! In a **Bayesian** World view, data is considered **fixed** and model parameters are treated as **random variables** with probability distributions. I *liiiiiiiiike that*!\n",
    "\n",
    "\n",
    "### Bayes factor\n",
    "\n",
    "The [Bayes factor](https://en.wikipedia.org/wiki/Bayes_factor) is the equivalent of [p-value](https://en.wikipedia.org/wiki/P-value) in the Bayesian framework.\n",
    "\n",
    "When $θ$ is the probability LH wins the F1 overall trophy for the season, a **null hypothesis** in a Bayesian framework would assume $∞$ probability distribution *only* at a particular value of a parameter (say $θ=0.5$) and a zero probability elsewhere. The **alternative hypothesis** could be that ***all values of $θ$ are possible***, hence a **flat curve** representing the distribution. That's what we start with at the beginning of the F1 season: we have no idea if LH is going to win. It's 50-50.\n",
    "\n",
    "As the season gets underway, Bayesian statistics adjust credibility (probability) of of $θ$ as we observe more data (F1 grand prix results). It can be seen that the probability distribution for LH is shifting towards the **alternative hypothesis** with a value higher than the **null hypothesis**. i.e. the alternative hypothesis is likely: We have higher and higher conviction that LH is going to win the season.\n",
    "\n",
    "Bayes factor does not depend upon the actual distribution values of $θ$, but only the magnitude of the shift in values for each hypothesis.\n",
    "\n",
    "In panel A below: left bar is the prior probability of the **null hypothesis** and the right bar the probability of the **alternative hypothesis**. Same as in panel B, but the bars have different shapes. F1 season starts and ***we don't know who's going to win*** (prior). As the season progresses, probability that LH wins gets higher and higher (posterior).\n",
    "\n",
    "</br >\n",
    "</br >\n",
    "<center>\n",
    "<img src=\"ipynb.images/prior-posterior.png\" width=600 />\n",
    "</center>\n",
    "\n",
    "**Bayes factor** is defined as the ratio of the odds of the two hypotheses at any moment in time (prior or posterior):\n",
    "\n",
    "$$BF = \\frac{p(NH\\;|\\;z, N)}{p(AH\\;|\\;z, N)}$$\n",
    "\n",
    "Where $NH$ represents the **null hypothesis** and $AH$ the **alternative hypothesis**.\n",
    "\n",
    "To reject a null hypothesis, a $BF < 0.1$ is *preferred*. The immediate benefits of using the **Bayes Factor** instead of **p-values** is that the BF is **independent of intentions and sample size**.\n",
    "\n",
    "### High Density interval (HDI)\n",
    "\n",
    "The **High Density Interval** (HDI) is formed from the **posterior distribution** after observing new data (e.g. more F1 grand prix results). \n",
    "\n",
    "Since HDI is a probability, the 95% HDI gives the 95% most credible values for your test statistic. It is also guaranteed that 95% values will lie in this interval.\n",
    "\n",
    "This interval is often plotted bounded by two numbers, which represent how many simulations end up outside that interval, either to the right or to the left.\n",
    "\n",
    "Notice how the 95% HDI in prior distribution is wider than the 95% posterior distribution. This is because our belief in HDI increases upon observation of new data:\n",
    "\n",
    "Read more about the HDI [here](https://www.sciencedirect.com/topics/mathematics/highest-density-interval).\n",
    "\n",
    "</br>\n",
    "</br >\n",
    "<center>\n",
    "<img src=\"ipynb.images/hdi.png\" width=400 />\n",
    "</center>\n",
    "\n",
    "Here's how to compute the ***Bayesian*** probability that a drug works p(AH), ites effect, and **confidence range**, when your delta is a **probability distribution**:\n",
    "```\n",
    "p  =  np.mean(delta  >  0)\n",
    "effect  =  np.mean(delta)\n",
    "CR  =  np.percentile(delta, (2.5, 97.5))\n",
    "```"
   ]
  },
  {
   "cell_type": "markdown",
   "metadata": {},
   "source": [
    "<div style=\"text-align: right; color: gray\">11</div>\n",
    "\n",
    "# 7. Experiment 2: Horny Boston Sloths\n",
    "\n",
    "Let's run an experiment using Bayesian estimation, and a ***new*** probabilistic library: `Sampyl`.\n",
    "\n",
    "We want to compare the number of times Boston sloths become **romantic** after we introduce a new drug that is supposed to be a sloth [aphrodisiac](https://en.wikipedia.org/wiki/Aphrodisiac). Does it work?. We have a **before** and **after** distribution of how many times a week sloths engage in romantic acts. So we have a [bivariate](https://en.wikipedia.org/wiki/Function_(mathematics)#Multivariate_function) data experiment (`before` and `after` parameters). \n",
    "\n",
    "</br >\n",
    "<center>\n",
    "<img src=\"images/slothskissing.jpg\" width=700 />\n",
    "</center>\n",
    "\n",
    "Instead of using classical frequentist statistical estimation theory, we'll use a **Bayesian model**. That means that instead of finding model parameters as **point estimates**, we'll identify model parameters as **pdfs**.\n",
    "\n",
    "Consider an indexed collection of random variables $y_{1},\\ldots ,y_{n}$. The joint probability distribution for $y_1, y_2, \\ldots$ is a probability distribution that gives the probability that each of $y_1, y_2, \\ldots$ falls in any particular range or discrete set of values specified for that variable. \n",
    "\n",
    "What are the right values for the parameters of our model, given the observations?\n",
    "\n",
    "Using Bayes:\n",
    "\n",
    "$$p(\\theta \\; | \\; (y_i)_{i=1}^n) = \\prod_{i = 1}^n p(y_i \\; | \\; \\theta) . p(\\theta)$$\n",
    "\n",
    "Let's build a Bayesian model using a [**Poisson**](https://en.wikipedia.org/wiki/Poisson_distribution) likelihood with **exponential** priors for $\\lambda_1$ and $\\lambda_2$. \n",
    "\n",
    ">Ok, what does *that* mean, professor? \n",
    "\n",
    "That means we assume sloth acts of romance ($R$) per week are bunched up around a certain statistic, per Poisson, before ($\\lambda_1$) and another statistic after ($\\lambda_2$), and we are going to traverse $\\lambda$ state space ***exponentially*** to try to locate the best $\\lambda$s (the best parameters for our *before* and *after* Poissons). \n",
    "\n",
    "Let's recap: \n",
    "- Our model is a **Poisson** pdf\n",
    "- The model parameter is $\\lambda$\n",
    "- We have two models (thus two parameters): before aphrodisiac, and after\n",
    "- We want to find the optimal values of the parameters\n",
    "- Since we're dealing with Bayesian statistics, we'll model these two parameters as pdfs\n",
    "- Our walks through state space to find solutions for the parameters will be exponential (not in speed, but in trajectory). \n",
    "\n",
    "By Bayes' law:\n",
    "\n",
    "$$\n",
    "p(\\lambda_1, \\lambda_2 \\mid R) \\;\\propto p( R \\mid \\lambda_1, \\lambda_2)\\, p(\\lambda_1)\\, p(\\lambda_2) \\;\\;\\; \\text{(no denominator!)}\\\\\n",
    "p( R \\mid \\lambda_1, \\lambda_2) \\;\\sim \\mathrm{Poisson}(R\\mid\\lambda_1)\\,\\mathrm{Poisson}(R\\mid\\lambda_2) \\\\\n",
    "p(\\lambda_1) \\;\\sim \\mathrm{Exp}(\\lambda) \\\\\n",
    "p(\\lambda_2) \\;\\sim \\mathrm{Exp}(\\lambda) \n",
    "$$\n",
    "\n",
    "This analysis method we'll follow is known as `Bayesian estimation` using probabilistic programming. \n",
    "\n",
    "We have the equations above,and we want to know *likely* values for $\\lambda_1$ and $\\lambda_2$. This information is contained in the posterior distribution $p(\\lambda_1, \\lambda_2 \\mid R)$. To infer values for $\\lambda_1$ and $\\lambda_2$, we sample from the posterior using MCMC samplers. Let's use the [Metropolis](https://en.wikipedia.org/wiki/Metropolis%E2%80%93Hastings_algorithm) algorithm. No more math! *Programming*, instead!"
   ]
  },
  {
   "cell_type": "markdown",
   "metadata": {},
   "source": [
    "<div style=\"text-align: right; color: gray\">12</div>\n",
    "\n",
    "## Sampyl\n",
    "\n",
    "`PyMC3` is not the only MCMC package. `Sampyl` is another, simpler one. You can [eead](https://pypi.org/project/sampyl-mcmc/) about it. [Here](http://matatat.org/sampyl/introduction.html) too. Let's install it. Better use an Anaconda terminal. If that does not work, try the below."
   ]
  },
  {
   "cell_type": "code",
   "execution_count": null,
   "metadata": {},
   "outputs": [],
   "source": [
    "!pip install sampyl-mcmc"
   ]
  },
  {
   "cell_type": "markdown",
   "metadata": {},
   "source": [
    "We don't have data for romantic adventures of Boston sloths! So, we ***make up the data*** using two Poisson distributions, one with parameter 7 (before aphrodisiac), the other with parameter 9 (after aphrodisiac). So, we're cheating!\n",
    "\n",
    "(yes, professor can do that, ***you cannot*** :-)"
   ]
  },
  {
   "cell_type": "code",
   "execution_count": 3,
   "metadata": {},
   "outputs": [
    {
     "data": {
      "text/plain": [
       "(array([5., 7., 8., 5., 2., 5.]),\n",
       " array([ 3.,  5.,  7.,  9., 11., 13., 15.]),\n",
       " <a list of 6 Patch objects>)"
      ]
     },
     "execution_count": 3,
     "metadata": {},
     "output_type": "execute_result"
    },
    {
     "data": {
      "image/png": "[encoded data removed]",
      "text/plain": [
       "<Figure size 432x288 with 1 Axes>"
      ]
     },
     "metadata": {
      "needs_background": "light"
     },
     "output_type": "display_data"
    }
   ],
   "source": [
    "import numpy as np\n",
    "import matplotlib.pyplot as plt\n",
    "%matplotlib inline\n",
    "\n",
    "# Fake data for the day before and after aphrodisiac introduction into Boston sloth population\n",
    "# Let's be conservative and assume that the aphrodisiac will increase acts of romance by 2 per week. Let's record data weekly.\n",
    "before = np.random.poisson(7, size=32)\n",
    "after = np.random.poisson(9, size=32)\n",
    "plt.hist(before, bins='auto')\n",
    "plt.hist(after, bins='auto')"
   ]
  },
  {
   "cell_type": "code",
   "execution_count": 4,
   "metadata": {},
   "outputs": [
    {
     "data": {
      "text/plain": [
       "[<matplotlib.lines.Line2D at 0x1f6b89fc5c0>]"
      ]
     },
     "execution_count": 4,
     "metadata": {},
     "output_type": "execute_result"
    },
    {
     "data": {
      "image/png": "[encoded data removed]",
      "text/plain": [
       "<Figure size 432x288 with 1 Axes>"
      ]
     },
     "metadata": {
      "needs_background": "light"
     },
     "output_type": "display_data"
    }
   ],
   "source": [
    "plt.plot(before)"
   ]
  },
  {
   "cell_type": "code",
   "execution_count": 5,
   "metadata": {},
   "outputs": [
    {
     "data": {
      "text/plain": [
       "[<matplotlib.lines.Line2D at 0x1f6b8a5b710>]"
      ]
     },
     "execution_count": 5,
     "metadata": {},
     "output_type": "execute_result"
    },
    {
     "data": {
      "image/png": "[encoded data removed]",
      "text/plain": [
       "<Figure size 432x288 with 1 Axes>"
      ]
     },
     "metadata": {
      "needs_background": "light"
     },
     "output_type": "display_data"
    }
   ],
   "source": [
    "plt.plot(after)"
   ]
  },
  {
   "cell_type": "code",
   "execution_count": 6,
   "metadata": {},
   "outputs": [],
   "source": [
    "# Define the log-P function here\n",
    "def logp(λ1, λ2):\n",
    "    model = smp.Model()\n",
    "    # Poisson log-likelihoods\n",
    "    model.add(smp.poisson(before, rate=λ1),\n",
    "              smp.poisson(after, rate=λ2))\n",
    "\n",
    "    # Exponential log-priors for rate parameters\n",
    "    model.add(smp.exponential(λ1),\n",
    "              smp.exponential(λ2))\n",
    "    \n",
    "    return model()"
   ]
  },
  {
   "cell_type": "markdown",
   "metadata": {},
   "source": [
    "Let's MCMC-simulate with `Sampyl`. We seed our starting condition with point estimates from the classical method called **M**aximum **A** **P**osteriori estimation (MAP). It's pretty similar to MLE.\n",
    "\n",
    "Then we say simulate for 10,000 timesteps and throw away the first 2,000 timesteps. Then give us statistical results of our simulation."
   ]
  },
  {
   "cell_type": "code",
   "execution_count": 9,
   "metadata": {},
   "outputs": [
    {
     "name": "stderr",
     "output_type": "stream",
     "text": [
      "d:\\Anaconda3.5.1\\lib\\site-packages\\sampyl\\state.py:28: FutureWarning: arrays to stack must be passed as a \"sequence\" type such as list or tuple. Support for non-sequence iterables such as generators is deprecated as of NumPy 1.16 and will raise an error in the future.\n",
      "  return np.hstack(self.values())\n",
      "d:\\Anaconda3.5.1\\lib\\site-packages\\scipy\\optimize\\_numdiff.py:497: RuntimeWarning: invalid value encountered in subtract\n",
      "  df = fun(x) - f0\n",
      "d:\\Anaconda3.5.1\\lib\\site-packages\\sampyl\\state.py:28: FutureWarning: arrays to stack must be passed as a \"sequence\" type such as list or tuple. Support for non-sequence iterables such as generators is deprecated as of NumPy 1.16 and will raise an error in the future.\n",
      "  return np.hstack(self.values())\n"
     ]
    },
    {
     "name": "stdout",
     "output_type": "stream",
     "text": [
      "Progress: [##############################] 10000 of 10000 samples\n"
     ]
    }
   ],
   "source": [
    "import sampyl as smp\n",
    "from sampyl import np\n",
    "    \n",
    "start  =  smp.find_MAP(logp, {'λ1':1., 'λ2':1.})\n",
    "sampler = smp.Metropolis(logp, start)\n",
    "chain = sampler(10000, burn=2000, thin=4)"
   ]
  },
  {
   "cell_type": "code",
   "execution_count": 85,
   "metadata": {},
   "outputs": [
    {
     "ename": "SyntaxError",
     "evalue": "invalid syntax (<ipython-input-85-96aa702780c0>, line 1)",
     "output_type": "error",
     "traceback": [
      "\u001b[1;36m  File \u001b[1;32m\"<ipython-input-85-96aa702780c0>\"\u001b[1;36m, line \u001b[1;32m1\u001b[0m\n\u001b[1;33m    sampler. #sampler - DOT - TAB\u001b[0m\n\u001b[1;37m                                 ^\u001b[0m\n\u001b[1;31mSyntaxError\u001b[0m\u001b[1;31m:\u001b[0m invalid syntax\n"
     ]
    }
   ],
   "source": [
    "sampler. #sampler - DOT - TAB"
   ]
  },
  {
   "cell_type": "code",
   "execution_count": 10,
   "metadata": {},
   "outputs": [
    {
     "name": "stdout",
     "output_type": "stream",
     "text": [
      "('λ1', 'λ2')\n"
     ]
    }
   ],
   "source": [
    "print(sampler.var_names)"
   ]
  },
  {
   "cell_type": "markdown",
   "metadata": {},
   "source": [
    "These are the **values** of the two $\\lambda$s we simulated (the *values*, not the *pdf$s for each):"
   ]
  },
  {
   "cell_type": "code",
   "execution_count": 11,
   "metadata": {},
   "outputs": [
    {
     "data": {
      "text/plain": [
       "[<matplotlib.lines.Line2D at 0x1f6b9fc34e0>]"
      ]
     },
     "execution_count": 11,
     "metadata": {},
     "output_type": "execute_result"
    },
    {
     "data": {
      "image/png": "[encoded data removed]",
      "text/plain": [
       "<Figure size 432x288 with 1 Axes>"
      ]
     },
     "metadata": {
      "needs_background": "light"
     },
     "output_type": "display_data"
    }
   ],
   "source": [
    "plt.plot(chain.λ1)\n",
    "plt.plot(chain.λ2)"
   ]
  },
  {
   "cell_type": "markdown",
   "metadata": {},
   "source": [
    "Now to see if there is a significant difference between **before aphrodisiac** and **after aphrodisiac**, we can look for the **difference** $\\delta =  \\lambda_2 - \\lambda_1$, then find the probability that $\\delta > 0$. Now let's find the pdf for $\\delta$ by plotting the histogram of the difference between the simulated values of $\\lambda_1$ and $\\lambda_2$, and let's also plot a vertical line at $\\delta = 2$ because we ***know that the difference between the two $\\lambda$s should be 2***!"
   ]
  },
  {
   "cell_type": "code",
   "execution_count": 12,
   "metadata": {},
   "outputs": [
    {
     "data": {
      "text/plain": [
       "[<matplotlib.lines.Line2D at 0x1f6ba06f5f8>]"
      ]
     },
     "execution_count": 12,
     "metadata": {},
     "output_type": "execute_result"
    },
    {
     "data": {
      "image/png": "[encoded data removed]",
      "text/plain": [
       "<Figure size 432x288 with 1 Axes>"
      ]
     },
     "metadata": {
      "needs_background": "light"
     },
     "output_type": "display_data"
    }
   ],
   "source": [
    "plt.plot(chain.λ2 - chain.λ1)"
   ]
  },
  {
   "cell_type": "code",
   "execution_count": 13,
   "metadata": {},
   "outputs": [
    {
     "data": {
      "image/png": "[encoded data removed]",
      "text/plain": [
       "<Figure size 432x288 with 1 Axes>"
      ]
     },
     "metadata": {
      "needs_background": "light"
     },
     "output_type": "display_data"
    }
   ],
   "source": [
    "delta  = chain.λ2  - chain.λ1\n",
    "_ =  plt.hist(delta, bins=30)\n",
    "_ =  plt.vlines(2,  0,  250,  linestyle = '--')"
   ]
  },
  {
   "cell_type": "markdown",
   "metadata": {},
   "source": [
    "Pretty close, huh?! \n",
    "\n",
    "Let's compute the probability that acts of romance ***increased***: the difference between the means of `before` and `after`, and our confidence interval."
   ]
  },
  {
   "cell_type": "code",
   "execution_count": 14,
   "metadata": {},
   "outputs": [
    {
     "name": "stdout",
     "output_type": "stream",
     "text": [
      "0.995 probability the rate of acts of romance increased\n",
      "delta = 1.764, 95% CR = {0.440 3.045}\n"
     ]
    }
   ],
   "source": [
    "p  =  np.mean(delta  >  0)\n",
    "effect  =  np.mean(delta)\n",
    "CR  =  np.percentile(delta, (2.5, 97.5))\n",
    "print(\"{:.3f} probability the rate of acts of romance increased\".format(p))\n",
    "print(\"delta = {:.3f}, 95% CR = {{{:.3f} {:.3f}}}\".format(effect, *CR))"
   ]
  },
  {
   "cell_type": "markdown",
   "metadata": {},
   "source": [
    "Wow, we are ***almost sure*** the acts of romance increased!\n",
    "\n",
    "And what's the size of the difference? About 2.5 for a 95% confidence interval, where the true value lies in the intereval [1.17, 4].\n",
    "\n",
    "The true difference in rates was two per hour, marked with the dashed line. We got it right!\n",
    "\n",
    "Our posterior is showing an effect, and our best estimate is that the rate increased by about 2.5 acts of romance per week. The 95% credible region is [1.663 2.327] which idicates that there is a 95% probability that the true effect lies with the region, as it does."
   ]
  },
  {
   "cell_type": "markdown",
   "metadata": {},
   "source": [
    "To use the [NUTS](https://en.wikipedia.org/wiki/Stan_(software)#Algorithms) algorithm to sample from the posterior instead of Metropolis:\n",
    "```\n",
    "nuts = smp.NUTS(logp, start)\n",
    "chain = nuts.sample(2100, burn=100)\n",
    "_ = plt.plot(chain.λ1)\n",
    "_ = plt.plot(chain.λ2)\n",
    "```\n",
    "(but you may have to install autograd).\n",
    "\n",
    "followed by:\n",
    "```\n",
    "delta = chain.λ2 - chain.λ1\n",
    "_ = plt.hist(delta, bins=30)\n",
    "_ = plt.vlines(2, 0, 250, linestyle='--')\n",
    "p = np.mean(delta > 0)\n",
    "effect = np.mean(delta)\n",
    "CR = np.percentile(delta, (2.5, 97.5))\n",
    "print(\"{:.3f} probability the rate of weekly romantic acts increased\".format(p))\n",
    "print(\"delta = {:.3f}, 95% CR = {{{:.3f} {:.3f}}}\".format(effect, *CR))\n",
    "```"
   ]
  },
  {
   "cell_type": "markdown",
   "metadata": {},
   "source": [
    "# 8. Conclusion\n",
    "\n",
    "What's the **model** for the data you observe? That's the ***science*** of the statistician. You need to pick the right one by eyeballing the histogram. It's the same in Machine Learning (ML): You need to pick the right model (CNN, RNN, etc.).\n",
    "\n",
    "The likelihood function you pick will tell you how many parameters. What are the shapes of the pdf for each parameter of your model? That's the ***art*** of the statistician. \n",
    "\n",
    "In **classical statistical estimation**, model parameters are **point estimates** (like with MOM or MLE), and if you want an error range, you need to do voodoo math like the **T-test**. \n",
    "\n",
    "In **Bayesian statistical estimation**, parameters are ***pdf***s so that an algorithm can find likely values and thus naturally also yield the most probable value (the mean of the pdf) *and* its error (the standard deviation of the pdf)."
   ]
  }
 ],
 "metadata": {
  "kernelspec": {
   "display_name": "Python 3 (ipykernel)",
   "language": "python",
   "name": "python3"
  },
  "language_info": {
   "codemirror_mode": {
    "name": "ipython",
    "version": 3
   },
   "file_extension": ".py",
   "mimetype": "text/x-python",
   "name": "python",
   "nbconvert_exporter": "python",
   "pygments_lexer": "ipython3",
   "version": "3.9.13"
  }
 },
 "nbformat": 4,
 "nbformat_minor": 1
}
