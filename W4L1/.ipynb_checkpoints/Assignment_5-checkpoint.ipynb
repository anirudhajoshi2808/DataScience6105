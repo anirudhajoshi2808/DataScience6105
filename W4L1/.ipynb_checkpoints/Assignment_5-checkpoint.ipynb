{
 "cells": [
  {
   "cell_type": "markdown",
   "id": "5a0133a0",
   "metadata": {},
   "source": [
    "### Defining p function"
   ]
  },
  {
   "cell_type": "code",
   "execution_count": 3,
   "id": "ff1cb194",
   "metadata": {},
   "outputs": [],
   "source": [
    "from fractions import Fraction\n",
    "def p(event, space): \n",
    "    \"\"\"The probability of an event, given a sample space of equiprobable outcomes.\n",
    "    event can be either a set of outcomes, or a predicate (true for outcomes in the event).\"\"\"\n",
    "    if is_predicate(event):\n",
    "        event = such_that(event, space)\n",
    "    return Fraction(len(event & space), len(space))\n",
    "\n",
    "is_predicate = callable\n",
    "\n",
    "def such_that(predicate, collection): \n",
    "    return {i for i in collection if predicate(i)}"
   ]
  },
  {
   "cell_type": "markdown",
   "id": "cbf519f3",
   "metadata": {},
   "source": [
    "### Prime Numbers Probablity"
   ]
  },
  {
   "cell_type": "code",
   "execution_count": 8,
   "id": "ba28bdf5",
   "metadata": {},
   "outputs": [
    {
     "name": "stdout",
     "output_type": "stream",
     "text": [
      "0.33796296296296297\n"
     ]
    }
   ],
   "source": [
    "D = {1,2,3,4,5,6}\n",
    "\n",
    "D3 = {(d1, d2, d3) for d1 in D for d2 in D for d3 in D}\n",
    "is_predicate = callable\n",
    "def prime_sum(outcome): \n",
    "    return is_prime(sum(outcome))\n",
    "\n",
    "def is_prime(n): \n",
    "    return all([n % i for i in range(2, int(n ** 0.5) + 1)]) and n > 1\n",
    "\n",
    "print(float(p(prime_sum, D3)))\n"
   ]
  },
  {
   "cell_type": "code",
   "execution_count": null,
   "id": "5e08cb96",
   "metadata": {},
   "outputs": [],
   "source": []
  }
 ],
 "metadata": {
  "kernelspec": {
   "display_name": "Python 3 (ipykernel)",
   "language": "python",
   "name": "python3"
  },
  "language_info": {
   "codemirror_mode": {
    "name": "ipython",
    "version": 3
   },
   "file_extension": ".py",
   "mimetype": "text/x-python",
   "name": "python",
   "nbconvert_exporter": "python",
   "pygments_lexer": "ipython3",
   "version": "3.9.13"
  }
 },
 "nbformat": 4,
 "nbformat_minor": 5
}
