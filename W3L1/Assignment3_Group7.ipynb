{
 "cells": [
  {
   "cell_type": "markdown",
   "id": "0a59b089-0298-4476-bef2-a341c5f4fa25",
   "metadata": {},
   "source": [
    "\n",
    "Teamwork Homework #1\n",
    "\n",
    "Please write below an **iterative**, **recursive**, and **generator** implementation of Fibonacci numbers. Those are the series where the next element is the sum of the previous two. Also, give me the first 100 Fibonacci numbers."
   ]
  },
  {
   "cell_type": "code",
   "execution_count": 2,
   "id": "73257c56-64fa-48e2-a90f-df5e7b153c92",
   "metadata": {},
   "outputs": [
    {
     "name": "stdout",
     "output_type": "stream",
     "text": [
      "[0, 1, 1, 2, 3, 5, 8, 13, 21, 34, 55, 89, 144, 233, 377, 610, 987, 1597, 2584, 4181, 6765, 10946, 17711, 28657, 46368, 75025, 121393, 196418, 317811, 514229, 832040, 1346269, 2178309, 3524578, 5702887, 9227465, 14930352, 24157817, 39088169, 63245986, 102334155, 165580141, 267914296, 433494437, 701408733, 1134903170, 1836311903, 2971215073, 4807526976, 7778742049, 12586269025, 20365011074, 32951280099, 53316291173, 86267571272, 139583862445, 225851433717, 365435296162, 591286729879, 956722026041, 1548008755920, 2504730781961, 4052739537881, 6557470319842, 10610209857723, 17167680177565, 27777890035288, 44945570212853, 72723460248141, 117669030460994, 190392490709135, 308061521170129, 498454011879264, 806515533049393, 1304969544928657, 2111485077978050, 3416454622906707, 5527939700884757, 8944394323791464, 14472334024676221, 23416728348467685, 37889062373143906, 61305790721611591, 99194853094755497, 160500643816367088, 259695496911122585, 420196140727489673, 679891637638612258, 1100087778366101931, 1779979416004714189, 2880067194370816120, 4660046610375530309, 7540113804746346429, 12200160415121876738, 19740274219868223167, 31940434634990099905, 51680708854858323072, 83621143489848422977, 135301852344706746049, 218922995834555169026]\n"
     ]
    }
   ],
   "source": [
    "# Fibonacci Series using Iterative Approach\n",
    "def fibonacci(n):\n",
    "    arr = [0,1]   #Initializing the array\n",
    "    # Handling Edge Cases\n",
    "    if n == 0:\n",
    "        return 0\n",
    "    elif n == 1:\n",
    "        return 1\n",
    "    else:\n",
    "        a = 0\n",
    "        b = 1\n",
    "        for i in range(2, n):\n",
    "            a, b = b, a + b     #Iteratively adding value elements\n",
    "            arr.append(b)\n",
    "        return arr\n",
    "\n",
    "print(fibonacci(100))"
   ]
  },
  {
   "cell_type": "code",
   "execution_count": 7,
   "id": "b4263c0d-1c3d-4228-8f05-cef0f84ba1ee",
   "metadata": {},
   "outputs": [
    {
     "name": "stdout",
     "output_type": "stream",
     "text": [
      "[0, 1, 1, 2, 3, 5, 8, 13, 21, 34, 55, 89, 144, 233, 377, 610, 987, 1597, 2584, 4181, 6765, 10946, 17711, 28657, 46368, 75025, 121393, 196418, 317811, 514229, 832040, 1346269, 2178309, 3524578, 5702887, 9227465, 14930352, 24157817, 39088169, 63245986, 102334155, 165580141, 267914296, 433494437, 701408733, 1134903170, 1836311903, 2971215073, 4807526976, 7778742049, 12586269025, 20365011074, 32951280099, 53316291173, 86267571272, 139583862445, 225851433717, 365435296162, 591286729879, 956722026041, 1548008755920, 2504730781961, 4052739537881, 6557470319842, 10610209857723, 17167680177565, 27777890035288, 44945570212853, 72723460248141, 117669030460994, 190392490709135, 308061521170129, 498454011879264, 806515533049393, 1304969544928657, 2111485077978050, 3416454622906707, 5527939700884757, 8944394323791464, 14472334024676221, 23416728348467685, 37889062373143906, 61305790721611591, 99194853094755497, 160500643816367088, 259695496911122585, 420196140727489673, 679891637638612258, 1100087778366101931, 1779979416004714189, 2880067194370816120, 4660046610375530309, 7540113804746346429, 12200160415121876738, 19740274219868223167, 31940434634990099905, 51680708854858323072, 83621143489848422977, 135301852344706746049, 218922995834555169026]\n"
     ]
    }
   ],
   "source": [
    "# Fibonacci Series using Recursion\n",
    "def fibonacci(n):\n",
    "    # Conditions to handle the Edge Cases\n",
    "    if n <= 0:\n",
    "        return []\n",
    "    elif n == 1:\n",
    "        return [0]\n",
    "    elif n == 2:\n",
    "        return [0, 1]\n",
    "    else:\n",
    "        fib_list = fibonacci(n-1)                 #Recursive Call to left decision tree\n",
    "        fib_list.append(fib_list[-1] + fib_list[-2])   #Appending sum of last and second to last element\n",
    "        return fib_list\n",
    "\n",
    "fib_list = fibonacci(100)\n",
    "print(fib_list)"
   ]
  },
  {
   "cell_type": "code",
   "execution_count": 10,
   "id": "b8cd7437-d905-43dc-a573-b669777b9726",
   "metadata": {},
   "outputs": [
    {
     "name": "stdout",
     "output_type": "stream",
     "text": [
      "[0, 1, 1, 2, 3, 5, 8, 13, 21, 34, 55, 89, 144, 233, 377, 610, 987, 1597, 2584, 4181, 6765, 10946, 17711, 28657, 46368, 75025, 121393, 196418, 317811, 514229, 832040, 1346269, 2178309, 3524578, 5702887, 9227465, 14930352, 24157817, 39088169, 63245986, 102334155, 165580141, 267914296, 433494437, 701408733, 1134903170, 1836311903, 2971215073, 4807526976, 7778742049, 12586269025, 20365011074, 32951280099, 53316291173, 86267571272, 139583862445, 225851433717, 365435296162, 591286729879, 956722026041, 1548008755920, 2504730781961, 4052739537881, 6557470319842, 10610209857723, 17167680177565, 27777890035288, 44945570212853, 72723460248141, 117669030460994, 190392490709135, 308061521170129, 498454011879264, 806515533049393, 1304969544928657, 2111485077978050, 3416454622906707, 5527939700884757, 8944394323791464, 14472334024676221, 23416728348467685, 37889062373143906, 61305790721611591, 99194853094755497, 160500643816367088, 259695496911122585, 420196140727489673, 679891637638612258, 1100087778366101931, 1779979416004714189, 2880067194370816120, 4660046610375530309, 7540113804746346429, 12200160415121876738, 19740274219868223167, 31940434634990099905, 51680708854858323072, 83621143489848422977, 135301852344706746049, 218922995834555169026]\n"
     ]
    }
   ],
   "source": [
    "# Fibonacci Series using (Dynamic Programming)\n",
    "def fibonacci(n):\n",
    "\n",
    "    arr = [0, 1]\n",
    "    for i in range(2, n):\n",
    "        arr.append(arr[i-1] + arr[i-2])\n",
    "    return arr\n",
    "    \n",
    "print(fibonacci(100))"
   ]
  },
  {
   "cell_type": "code",
   "execution_count": 4,
   "id": "72ef2e11-f0c8-4055-a21f-7e0a10598107",
   "metadata": {},
   "outputs": [
    {
     "name": "stdout",
     "output_type": "stream",
     "text": [
      "[0, 1, 1, 2, 3, 5, 8, 13, 21, 34, 55, 89, 144, 233, 377, 610, 987, 1597, 2584, 4181, 6765, 10946, 17711, 28657, 46368, 75025, 121393, 196418, 317811, 514229, 832040, 1346269, 2178309, 3524578, 5702887, 9227465, 14930352, 24157817, 39088169, 63245986, 102334155, 165580141, 267914296, 433494437, 701408733, 1134903170, 1836311903, 2971215073, 4807526976, 7778742049, 12586269025, 20365011074, 32951280099, 53316291173, 86267571272, 139583862445, 225851433717, 365435296162, 591286729879, 956722026041, 1548008755920, 2504730781961, 4052739537881, 6557470319842, 10610209857723, 17167680177565, 27777890035288, 44945570212853, 72723460248141, 117669030460994, 190392490709135, 308061521170129, 498454011879264, 806515533049393, 1304969544928657, 2111485077978050, 3416454622906707, 5527939700884757, 8944394323791464, 14472334024676221, 23416728348467685, 37889062373143906, 61305790721611591, 99194853094755497, 160500643816367088, 259695496911122585, 420196140727489673, 679891637638612258, 1100087778366101931, 1779979416004714189, 2880067194370816120, 4660046610375530309, 7540113804746346429, 12200160415121876738, 19740274219868223167, 31940434634990099905, 51680708854858323072, 83621143489848422977, 135301852344706746049, 218922995834555169026]\n"
     ]
    }
   ],
   "source": [
    "# Fibonacci Series using Generator\n",
    "def fibonacci_series():\n",
    "    a, b = 0, 1\n",
    "    count = 0\n",
    "    while count < 100:\n",
    "        yield a\n",
    "        a, b = b, a + b\n",
    "        count += 1\n",
    "\n",
    "op = []\n",
    "for i in fibonacci_series():\n",
    "    op.append(i)\n",
    "print(op)"
   ]
  },
  {
   "cell_type": "markdown",
   "id": "ad32d7f4-b87a-4f85-bd8f-402099e848b1",
   "metadata": {},
   "source": [
    "Teamwork Homework #2\n",
    "\n",
    "Part 1: Google for some code to determine if a number is a prime number (or write the code yourselves!).\n",
    "\n"
   ]
  },
  {
   "cell_type": "code",
   "execution_count": 6,
   "id": "df513b98-e2df-4583-a0ae-274f04153b0d",
   "metadata": {},
   "outputs": [
    {
     "name": "stdout",
     "output_type": "stream",
     "text": [
      "True\n",
      "True\n",
      "False\n"
     ]
    }
   ],
   "source": [
    "def is_prime(n):\n",
    "    if n <= 1:                #Condition to handle Edge Case\n",
    "        return False\n",
    "    for i in range(2, int(n ** 0.5) + 1):\n",
    "        if n % i == 0:        #Condition for non-prime numbers\n",
    "            return False\n",
    "    return True\n",
    "#Test Cases\n",
    "print(is_prime(2))  # True  \n",
    "print(is_prime(3))  # True\n",
    "print(is_prime(4))  # False"
   ]
  },
  {
   "cell_type": "markdown",
   "id": "b7c45efb-7a6a-4ff7-9ebf-51567c85f9c2",
   "metadata": {},
   "source": [
    "Part 2: Rewrite your code Dua-Lipa style: In one line of code!"
   ]
  },
  {
   "cell_type": "code",
   "execution_count": 5,
   "id": "20db5f23-3e0b-4562-b8b8-053943425494",
   "metadata": {},
   "outputs": [
    {
     "data": {
      "text/plain": [
       "True"
      ]
     },
     "execution_count": 5,
     "metadata": {},
     "output_type": "execute_result"
    }
   ],
   "source": [
    "def isPrime(n):\n",
    "    return all([n % i for i in range(2, int(n ** 0.5) + 1)]) and n > 1\n",
    "\n",
    "isPrime(97)\n",
    "\n",
    "# This code uses the all() function, which returns True if all elements in an iterable \n",
    "# (in this case, a list comprehension) are True, and False otherwise. \n",
    "# The list comprehension generates the remainder of num divided by all integers from 2 to the square root of\n",
    "# num (inclusive), using the range() function. If the remainder is always non-zero \n",
    "# (i.e., if num is not divisible by any of these integers), then all() returns True, and the number is prime. \n",
    "# Otherwise, all() returns False, and the number is not prime."
   ]
  },
  {
   "cell_type": "code",
   "execution_count": null,
   "id": "1c89bfa0",
   "metadata": {},
   "outputs": [],
   "source": []
  }
 ],
 "metadata": {
  "kernelspec": {
   "display_name": "Python 3 (ipykernel)",
   "language": "python",
   "name": "python3"
  },
  "language_info": {
   "codemirror_mode": {
    "name": "ipython",
    "version": 3
   },
   "file_extension": ".py",
   "mimetype": "text/x-python",
   "name": "python",
   "nbconvert_exporter": "python",
   "pygments_lexer": "ipython3",
   "version": "3.9.13"
  }
 },
 "nbformat": 4,
 "nbformat_minor": 5
}
